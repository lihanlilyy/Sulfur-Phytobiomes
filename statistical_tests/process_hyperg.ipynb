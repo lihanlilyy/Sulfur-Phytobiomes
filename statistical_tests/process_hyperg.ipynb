{
 "cells": [
  {
   "cell_type": "code",
   "execution_count": 1,
   "metadata": {},
   "outputs": [],
   "source": [
    "import pandas as pd"
   ]
  },
  {
   "cell_type": "code",
   "execution_count": 2,
   "metadata": {},
   "outputs": [
    {
     "name": "stdout",
     "output_type": "stream",
     "text": [
      "Processed workbook saved to 'processed_combined_hyperg_results.xlsx'\n"
     ]
    }
   ],
   "source": [
    "# Replace this with the name of your input workbook\n",
    "input_workbook = 'combined_hyperg_results.xlsx'\n",
    "output_workbook = 'processed_combined_hyperg_results.xlsx'\n",
    "\n",
    "# Read all sheet names from the input workbook\n",
    "with pd.ExcelFile(input_workbook, engine='openpyxl') as xls:\n",
    "    sheet_names = xls.sheet_names\n",
    "\n",
    "# Function to process a single sheet\n",
    "def process_sheet(sheet_name, input_workbook):\n",
    "    df = pd.read_excel(input_workbook, sheet_name=sheet_name, engine='openpyxl')\n",
    "    \n",
    "    new_df = pd.DataFrame()\n",
    "    new_df['genes'] = df['gene.id']\n",
    "    new_df['niche'] = df['comparison']\n",
    "    new_df['stats_method'] = 'hyperg'\n",
    "    new_df['raw_enriched'] = (df['adj_p.value_enriched_rawcounts'] < 0.05).astype(int)\n",
    "    new_df['raw_depleted'] = (df['adj_p.value_depletion_rawcounts'] < 0.05).astype(int)\n",
    "    new_df['binary_enriched'] = (df['adj_p.value_enriched_binary'] < 0.05).astype(int)\n",
    "    new_df['binary_depleted'] = (df['adj_p.value_depletion_binary'] < 0.05).astype(int)\n",
    "    \n",
    "    return new_df\n",
    "\n",
    "# Process all sheets and save to a new workbook\n",
    "with pd.ExcelWriter(output_workbook, engine='openpyxl') as writer:\n",
    "    for sheet_name in sheet_names:\n",
    "        new_df = process_sheet(sheet_name, input_workbook)\n",
    "        new_df.to_excel(writer, sheet_name=sheet_name, index=False)\n",
    "\n",
    "print(f\"Processed workbook saved to '{output_workbook}'\")"
   ]
  },
  {
   "cell_type": "code",
   "execution_count": null,
   "metadata": {},
   "outputs": [],
   "source": []
  }
 ],
 "metadata": {
  "kernelspec": {
   "display_name": "Python 3 (ipykernel)",
   "language": "python",
   "name": "python3"
  },
  "language_info": {
   "codemirror_mode": {
    "name": "ipython",
    "version": 3
   },
   "file_extension": ".py",
   "mimetype": "text/x-python",
   "name": "python",
   "nbconvert_exporter": "python",
   "pygments_lexer": "ipython3",
   "version": "3.9.13"
  }
 },
 "nbformat": 4,
 "nbformat_minor": 2
}
