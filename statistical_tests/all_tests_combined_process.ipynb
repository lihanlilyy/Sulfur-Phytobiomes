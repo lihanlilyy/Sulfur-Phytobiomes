{
 "cells": [
  {
   "cell_type": "code",
   "execution_count": 1,
   "id": "ad12dd64",
   "metadata": {},
   "outputs": [
    {
     "name": "stdout",
     "output_type": "stream",
     "text": [
      "All workbooks have the same number of sheets and the same sheet names.\n",
      "Merged all sheets and saved to all_tests_combined.xlsx\n"
     ]
    }
   ],
   "source": [
    "import pandas as pd\n",
    "from openpyxl import load_workbook\n",
    "\n",
    "workbook1 = 'renamed_processed_combined_scoary_results.xlsx'\n",
    "workbook2 = 'processed_combined_phyloglm_results.xlsx'\n",
    "workbook3 = 'processed_combined_hyperg_results.xlsx'\n",
    "output_workbook = 'all_tests_combined.xlsx'\n",
    "\n",
    "def get_sheetnames(workbook):\n",
    "    wb = load_workbook(workbook)\n",
    "    sheetnames = wb.sheetnames\n",
    "    wb.close()\n",
    "    return sheetnames\n",
    "\n",
    "sheetnames1 = set(get_sheetnames(workbook1))\n",
    "sheetnames2 = set(get_sheetnames(workbook2))\n",
    "sheetnames3 = set(get_sheetnames(workbook3))\n",
    "\n",
    "if sheetnames1 == sheetnames2 == sheetnames3:\n",
    "    print(\"All workbooks have the same number of sheets and the same sheet names.\")\n",
    "else:\n",
    "    print(\"Differences in sheet names:\")\n",
    "    print(f\"{workbook1}: {sheetnames1}\")\n",
    "    print(f\"{workbook2}: {sheetnames2}\")\n",
    "    print(f\"{workbook3}: {sheetnames3}\")\n",
    "\n",
    "with pd.ExcelWriter(output_workbook, engine='openpyxl') as writer:\n",
    "    for sheet_name in sheetnames1:\n",
    "        df1 = pd.read_excel(workbook1, sheet_name=sheet_name)\n",
    "        df2 = pd.read_excel(workbook2, sheet_name=sheet_name)\n",
    "        df3 = pd.read_excel(workbook3, sheet_name=sheet_name)\n",
    "        \n",
    "        df_combined = pd.concat([df1, df2, df3])\n",
    "        df_combined.to_excel(writer, sheet_name=sheet_name, index=False)\n",
    "\n",
    "print(f'Merged all sheets and saved to {output_workbook}')\n"
   ]
  }
 ],
 "metadata": {
  "kernelspec": {
   "display_name": "Python 3 (ipykernel)",
   "language": "python",
   "name": "python3"
  },
  "language_info": {
   "codemirror_mode": {
    "name": "ipython",
    "version": 3
   },
   "file_extension": ".py",
   "mimetype": "text/x-python",
   "name": "python",
   "nbconvert_exporter": "python",
   "pygments_lexer": "ipython3",
   "version": "3.9.13"
  }
 },
 "nbformat": 4,
 "nbformat_minor": 5
}
