{
 "cells": [
  {
   "cell_type": "code",
   "execution_count": 1,
   "metadata": {},
   "outputs": [
    {
     "name": "stdout",
     "output_type": "stream",
     "text": [
      "Processed workbook saved to 'processed_combined_phyloglm_results.xlsx'\n"
     ]
    }
   ],
   "source": [
    "import pandas as pd\n",
    "\n",
    "# Replace this with the name of your input workbook\n",
    "input_workbook = 'combined_phyloglm_results.xlsx'\n",
    "output_workbook = 'processed_combined_phyloglm_results.xlsx'\n",
    "\n",
    "# Read all sheet names from the input workbook\n",
    "with pd.ExcelFile(input_workbook, engine='openpyxl') as xls:\n",
    "    sheet_names = xls.sheet_names\n",
    "\n",
    "# Function to process a single sheet\n",
    "def process_sheet(sheet_name, input_workbook):\n",
    "    df = pd.read_excel(input_workbook, sheet_name=sheet_name, engine='openpyxl')\n",
    "    \n",
    "    # Remove rows with more than 2 'NA' values\n",
    "    df = df[df.isna().sum(axis=1) <= 2]\n",
    "    \n",
    "    # Create new columns\n",
    "    df['gene'] = df['orthogroup.id']\n",
    "    df['niche'] = df['niche'].replace({'rhizo': 'rhizo & soil', 'phyllo': 'phyllo & soil'})\n",
    "    df['stats_method'] = 'phyloglm'\n",
    "    \n",
    "    df['raw_enriched'] = ((df['adj_p.value'] < 0.05) & (df['Estimate'] > 0) & (df['comparison_type'] == 'raw')).astype(int)\n",
    "    df['raw_depleted'] = ((df['adj_p.value'] < 0.05) & (df['Estimate'] < 0) & (df['comparison_type'] == 'raw')).astype(int)\n",
    "    df['binary_enriched'] = ((df['adj_p.value'] < 0.05) & (df['Estimate'] > 0) & (df['comparison_type'] == 'binary')).astype(int)\n",
    "    df['binary_depleted'] = ((df['adj_p.value'] < 0.05) & (df['Estimate'] < 0) & (df['comparison_type'] == 'binary')).astype(int)\n",
    "\n",
    "    new_df = df[['gene', 'niche', 'stats_method', 'raw_enriched', 'raw_depleted', 'binary_enriched', 'binary_depleted']]\n",
    "    \n",
    "    # Group by gene, niche, and stats_method and sum the last 4 columns\n",
    "    new_df = new_df.groupby(['gene', 'niche', 'stats_method'], as_index=False).sum()\n",
    "    \n",
    "    return new_df\n",
    "\n",
    "# Process all sheets and save to a new workbook\n",
    "with pd.ExcelWriter(output_workbook, engine='openpyxl') as writer:\n",
    "    for sheet_name in sheet_names:\n",
    "        new_df = process_sheet(sheet_name, input_workbook)\n",
    "        new_df.to_excel(writer, sheet_name=sheet_name, index=False)\n",
    "\n",
    "print(f\"Processed workbook saved to '{output_workbook}'\")\n"
   ]
  }
 ],
 "metadata": {
  "kernelspec": {
   "display_name": "Python 3 (ipykernel)",
   "language": "python",
   "name": "python3"
  },
  "language_info": {
   "codemirror_mode": {
    "name": "ipython",
    "version": 3
   },
   "file_extension": ".py",
   "mimetype": "text/x-python",
   "name": "python",
   "nbconvert_exporter": "python",
   "pygments_lexer": "ipython3",
   "version": "3.9.13"
  }
 },
 "nbformat": 4,
 "nbformat_minor": 2
}
