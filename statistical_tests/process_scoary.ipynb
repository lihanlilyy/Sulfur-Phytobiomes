{
 "cells": [
  {
   "cell_type": "code",
   "execution_count": 1,
   "metadata": {},
   "outputs": [
    {
     "name": "stdout",
     "output_type": "stream",
     "text": [
      "Processed all sheets and saved to processed_combined_scoary_results.xlsx\n"
     ]
    }
   ],
   "source": [
    "import pandas as pd\n",
    "from openpyxl import load_workbook\n",
    "from statsmodels.stats.multitest import multipletests\n",
    "\n",
    "input_workbook = 'combined_scoary_results.xlsx'\n",
    "output_workbook = 'processed_combined_scoary_results.xlsx'\n",
    "\n",
    "\n",
    "def process_group(df):\n",
    "    pvals = df['Empirical_p']\n",
    "    adj_pvals = multipletests(pvals, method='fdr_bh')[1]\n",
    "    df['adj_p.value'] = adj_pvals\n",
    "    return df\n",
    "\n",
    "with pd.ExcelWriter(output_workbook, engine='openpyxl') as writer:\n",
    "    workbook = load_workbook(input_workbook)\n",
    "    for sheet_name in workbook.sheetnames:\n",
    "        if sheet_name == 'commands':\n",
    "            continue\n",
    "\n",
    "        df = pd.read_excel(input_workbook, sheet_name=sheet_name)\n",
    "        df = df[['comparison-type', 'niche', 'genes', 'Odds_ratio', 'Empirical_p']]\n",
    "\n",
    "        groups = df.groupby(['comparison-type', 'niche'])\n",
    "\n",
    "        processed_groups = []\n",
    "        for _, group_df in groups:\n",
    "            processed_groups.append(process_group(group_df))\n",
    "\n",
    "        df = pd.concat(processed_groups)\n",
    "\n",
    "        def map_niche(niche):\n",
    "            if niche == 'rhizo':\n",
    "                return 'rhizo & soil'\n",
    "            elif niche == 'phyllo':\n",
    "                return 'phyllo & soil'\n",
    "            return niche\n",
    "\n",
    "        df['niche'] = df['niche'].apply(map_niche)\n",
    "        \n",
    "        df['stats_method'] = 'scoary'\n",
    "\n",
    "        df['raw_enriched'] = df.apply(lambda x: 1 if x['comparison-type'] == 'raw' and x['adj_p.value'] < 0.1 and x['Odds_ratio'] > 1 else 0, axis=1)\n",
    "        df['raw_depleted'] = df.apply(lambda x: 1 if x['comparison-type'] == 'raw' and x['adj_p.value'] < 0.1 and x['Odds_ratio'] < 1 else 0, axis=1)\n",
    "        df['binary_enriched'] = df.apply(lambda x: 1 if x['comparison-type'] == 'binary' and x['adj_p.value'] < 0.1 and x['Odds_ratio'] > 1 else 0, axis=1)\n",
    "        df['binary_depleted'] = df.apply(lambda x: 1 if x['comparison-type'] == 'binary' and x['adj_p.value'] < 0.1 and x['Odds_ratio'] < 1 else 0, axis=1)\n",
    "\n",
    "        df = df.groupby(['genes', 'niche', 'stats_method']).agg({\n",
    "            'raw_enriched': 'sum',\n",
    "            'raw_depleted': 'sum',\n",
    "            'binary_enriched': 'sum',\n",
    "            'binary_depleted': 'sum'\n",
    "        }).reset_index()\n",
    "\n",
    "        df.to_excel(writer, sheet_name=sheet_name, index=False)\n",
    "\n",
    "print(f'Processed all sheets and saved to {output_workbook}')\n"
   ]
  },
  {
   "cell_type": "code",
   "execution_count": 2,
   "metadata": {},
   "outputs": [
    {
     "name": "stdout",
     "output_type": "stream",
     "text": [
      "Renamed \"genes\" column to \"gene\" in all sheets and saved to renamed_processed_combined_scoary_results.xlsx\n"
     ]
    }
   ],
   "source": [
    "import pandas as pd\n",
    "\n",
    "input_workbook = 'processed_combined_scoary_results.xlsx'\n",
    "output_workbook = 'renamed_processed_combined_scoary_results.xlsx'\n",
    "\n",
    "# Load the workbook and get sheet names\n",
    "xl = pd.read_excel(input_workbook, sheet_name=None)\n",
    "\n",
    "with pd.ExcelWriter(output_workbook, engine='openpyxl') as writer:\n",
    "    for sheet_name, df in xl.items():\n",
    "        # Rename the 'genes' column to 'gene'\n",
    "        df.rename(columns={'genes': 'gene'}, inplace=True)\n",
    "\n",
    "        # Save the updated dataframe to the output workbook\n",
    "        df.to_excel(writer, sheet_name=sheet_name, index=False)\n",
    "\n",
    "print(f'Renamed \"genes\" column to \"gene\" in all sheets and saved to {output_workbook}')\n"
   ]
  },
  {
   "cell_type": "code",
   "execution_count": 3,
   "metadata": {},
   "outputs": [
    {
     "name": "stderr",
     "output_type": "stream",
     "text": [
      "/var/folders/fz/pjh7t0w51t5d366ytggct8k40000gn/T/ipykernel_7435/3242394451.py:21: FutureWarning: The frame.append method is deprecated and will be removed from pandas in a future version. Use pandas.concat instead.\n",
      "  combined_df = combined_df.append(df, ignore_index=True)\n",
      "/var/folders/fz/pjh7t0w51t5d366ytggct8k40000gn/T/ipykernel_7435/3242394451.py:21: FutureWarning: The frame.append method is deprecated and will be removed from pandas in a future version. Use pandas.concat instead.\n",
      "  combined_df = combined_df.append(df, ignore_index=True)\n",
      "/var/folders/fz/pjh7t0w51t5d366ytggct8k40000gn/T/ipykernel_7435/3242394451.py:21: FutureWarning: The frame.append method is deprecated and will be removed from pandas in a future version. Use pandas.concat instead.\n",
      "  combined_df = combined_df.append(df, ignore_index=True)\n",
      "/var/folders/fz/pjh7t0w51t5d366ytggct8k40000gn/T/ipykernel_7435/3242394451.py:21: FutureWarning: The frame.append method is deprecated and will be removed from pandas in a future version. Use pandas.concat instead.\n",
      "  combined_df = combined_df.append(df, ignore_index=True)\n",
      "/var/folders/fz/pjh7t0w51t5d366ytggct8k40000gn/T/ipykernel_7435/3242394451.py:21: FutureWarning: The frame.append method is deprecated and will be removed from pandas in a future version. Use pandas.concat instead.\n",
      "  combined_df = combined_df.append(df, ignore_index=True)\n",
      "/var/folders/fz/pjh7t0w51t5d366ytggct8k40000gn/T/ipykernel_7435/3242394451.py:21: FutureWarning: The frame.append method is deprecated and will be removed from pandas in a future version. Use pandas.concat instead.\n",
      "  combined_df = combined_df.append(df, ignore_index=True)\n",
      "/var/folders/fz/pjh7t0w51t5d366ytggct8k40000gn/T/ipykernel_7435/3242394451.py:21: FutureWarning: The frame.append method is deprecated and will be removed from pandas in a future version. Use pandas.concat instead.\n",
      "  combined_df = combined_df.append(df, ignore_index=True)\n",
      "/var/folders/fz/pjh7t0w51t5d366ytggct8k40000gn/T/ipykernel_7435/3242394451.py:21: FutureWarning: The frame.append method is deprecated and will be removed from pandas in a future version. Use pandas.concat instead.\n",
      "  combined_df = combined_df.append(df, ignore_index=True)\n",
      "/var/folders/fz/pjh7t0w51t5d366ytggct8k40000gn/T/ipykernel_7435/3242394451.py:21: FutureWarning: The frame.append method is deprecated and will be removed from pandas in a future version. Use pandas.concat instead.\n",
      "  combined_df = combined_df.append(df, ignore_index=True)\n",
      "/var/folders/fz/pjh7t0w51t5d366ytggct8k40000gn/T/ipykernel_7435/3242394451.py:21: FutureWarning: The frame.append method is deprecated and will be removed from pandas in a future version. Use pandas.concat instead.\n",
      "  combined_df = combined_df.append(df, ignore_index=True)\n",
      "/var/folders/fz/pjh7t0w51t5d366ytggct8k40000gn/T/ipykernel_7435/3242394451.py:21: FutureWarning: The frame.append method is deprecated and will be removed from pandas in a future version. Use pandas.concat instead.\n",
      "  combined_df = combined_df.append(df, ignore_index=True)\n",
      "/var/folders/fz/pjh7t0w51t5d366ytggct8k40000gn/T/ipykernel_7435/3242394451.py:21: FutureWarning: The frame.append method is deprecated and will be removed from pandas in a future version. Use pandas.concat instead.\n",
      "  combined_df = combined_df.append(df, ignore_index=True)\n",
      "/var/folders/fz/pjh7t0w51t5d366ytggct8k40000gn/T/ipykernel_7435/3242394451.py:21: FutureWarning: The frame.append method is deprecated and will be removed from pandas in a future version. Use pandas.concat instead.\n",
      "  combined_df = combined_df.append(df, ignore_index=True)\n",
      "/var/folders/fz/pjh7t0w51t5d366ytggct8k40000gn/T/ipykernel_7435/3242394451.py:21: FutureWarning: The frame.append method is deprecated and will be removed from pandas in a future version. Use pandas.concat instead.\n",
      "  combined_df = combined_df.append(df, ignore_index=True)\n",
      "/var/folders/fz/pjh7t0w51t5d366ytggct8k40000gn/T/ipykernel_7435/3242394451.py:21: FutureWarning: The frame.append method is deprecated and will be removed from pandas in a future version. Use pandas.concat instead.\n",
      "  combined_df = combined_df.append(df, ignore_index=True)\n",
      "/var/folders/fz/pjh7t0w51t5d366ytggct8k40000gn/T/ipykernel_7435/3242394451.py:21: FutureWarning: The frame.append method is deprecated and will be removed from pandas in a future version. Use pandas.concat instead.\n",
      "  combined_df = combined_df.append(df, ignore_index=True)\n"
     ]
    },
    {
     "name": "stdout",
     "output_type": "stream",
     "text": [
      "Added \"Order\" column and combined all sheets into a single sheet named \"combined\" in updated_all_tests_combined.xlsx\n"
     ]
    }
   ],
   "source": [
    "import pandas as pd\n",
    "\n",
    "input_workbook = 'all_tests_combined.xlsx'\n",
    "output_workbook = 'updated_all_tests_combined.xlsx'\n",
    "\n",
    "# Load the workbook and get sheet names\n",
    "xl = pd.read_excel(input_workbook, sheet_name=None)\n",
    "\n",
    "# Create an empty DataFrame to store the concatenated data\n",
    "combined_df = pd.DataFrame()\n",
    "\n",
    "with pd.ExcelWriter(output_workbook, engine='openpyxl') as writer:\n",
    "    for sheet_name, df in xl.items():\n",
    "        # Add a new column 'Order' with the value set to the sheet name\n",
    "        df['Order'] = sheet_name\n",
    "        \n",
    "        # Save the updated dataframe to the output workbook\n",
    "        df.to_excel(writer, sheet_name=sheet_name, index=False)\n",
    "\n",
    "        # Add the updated dataframe to the combined dataframe\n",
    "        combined_df = combined_df.append(df, ignore_index=True)\n",
    "\n",
    "    # Save the combined dataframe to the output workbook\n",
    "    combined_df.to_excel(writer, sheet_name='combined', index=False)\n",
    "\n",
    "print(f'Added \"Order\" column and combined all sheets into a single sheet named \"combined\" in {output_workbook}')\n",
    "\n"
   ]
  },
  {
   "cell_type": "code",
   "execution_count": 5,
   "metadata": {},
   "outputs": [
    {
     "name": "stdout",
     "output_type": "stream",
     "text": [
      "Aggregated the \"combined\" sheet and saved as \"aggregated\" sheet in aggregated_all_tests_combined.xlsx\n"
     ]
    }
   ],
   "source": [
    "import pandas as pd\n",
    "\n",
    "input_workbook = 'updated_all_tests_combined.xlsx'\n",
    "output_workbook = 'aggregated_all_tests_combined.xlsx'\n",
    "\n",
    "# Load the 'combined' sheet\n",
    "df = pd.read_excel(input_workbook, sheet_name='combined')\n",
    "\n",
    "# Replace the niche column values\n",
    "df['niche'] = df['niche'].replace({'phyllo &soil': 'phyllo & soil', 'rhizo & zoil': 'rhizo & soil'})\n",
    "\n",
    "# Group the rows by niche, Order, gene and aggregate the columns\n",
    "aggregated_df = df.groupby(['niche', 'Order', 'gene']).agg(\n",
    "    {'raw_enriched': 'sum',\n",
    "     'raw_depleted': 'sum',\n",
    "     'binary_enriched': 'sum',\n",
    "     'binary_depleted': 'sum'}\n",
    ").reset_index()\n",
    "\n",
    "# Save the aggregated dataframe as a new sheet in the output workbook\n",
    "with pd.ExcelWriter(output_workbook, engine='openpyxl') as writer:\n",
    "    aggregated_df.to_excel(writer, sheet_name='aggregated', index=False)\n",
    "\n",
    "print(f'Aggregated the \"combined\" sheet and saved as \"aggregated\" sheet in {output_workbook}')\n"
   ]
  },
  {
   "cell_type": "code",
   "execution_count": null,
   "metadata": {},
   "outputs": [],
   "source": []
  }
 ],
 "metadata": {
  "kernelspec": {
   "display_name": "Python 3 (ipykernel)",
   "language": "python",
   "name": "python3"
  },
  "language_info": {
   "codemirror_mode": {
    "name": "ipython",
    "version": 3
   },
   "file_extension": ".py",
   "mimetype": "text/x-python",
   "name": "python",
   "nbconvert_exporter": "python",
   "pygments_lexer": "ipython3",
   "version": "3.9.13"
  }
 },
 "nbformat": 4,
 "nbformat_minor": 2
}
