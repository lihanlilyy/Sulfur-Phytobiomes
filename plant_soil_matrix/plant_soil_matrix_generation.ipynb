{
 "cells": [
  {
   "cell_type": "code",
   "execution_count": null,
   "id": "4c505aba",
   "metadata": {},
   "outputs": [],
   "source": [
    "import csv\n",
    "import textwrap\n",
    "import os\n",
    "import collections\n",
    "import pandas as pd"
   ]
  },
  {
   "cell_type": "code",
   "execution_count": null,
   "id": "f988a2e6",
   "metadata": {},
   "outputs": [],
   "source": [
    "folder_to_view = \"soil_sulfer_gene_hits\"\n",
    "df = pd.read_csv('/Users/hanli/Desktop/FYP/sulfer_genes/gene_list.csv')"
   ]
  },
  {
   "cell_type": "code",
   "execution_count": null,
   "id": "9788139a",
   "metadata": {},
   "outputs": [],
   "source": [
    "\n",
    "for i, file in enumerate(os.listdir(folder_to_view)):\n",
    "    if file.endswith(\".csv\"):\n",
    "#         print(file)\n",
    "        df[file] = \"\"\n",
    "        directory = os.path.dirname(os.path.abspath(file))\n",
    "#         for gene_num in range (0, 290):\n",
    "        with open(directory+\"/soil_sulfer_gene_hits/\"+file, 'rt') as f:\n",
    "            reader = csv.reader(f, delimiter=',')\n",
    "            for gene_num in range (0, 291):\n",
    "                df.loc[gene_num][file] = 0\n",
    "            for row in reader:\n",
    "                for field in row:\n",
    "                    if field[0] == \"K\": \n",
    "                        for gene_num in range (0, 291):\n",
    "                            if field == df.loc[gene_num][\"count\"]:\n",
    "                                df.loc[gene_num][file] += 1\n",
    "    print(file + \" is done\")\n"
   ]
  },
  {
   "cell_type": "code",
   "execution_count": null,
   "id": "6921788b",
   "metadata": {},
   "outputs": [],
   "source": [
    "print(df)"
   ]
  },
  {
   "cell_type": "code",
   "execution_count": null,
   "id": "1c659609",
   "metadata": {},
   "outputs": [],
   "source": [
    "df.to_csv(\"soil_matrix_final.csv\")"
   ]
  },
  {
   "cell_type": "code",
   "execution_count": null,
   "id": "25a186d0",
   "metadata": {},
   "outputs": [],
   "source": []
  }
 ],
 "metadata": {
  "kernelspec": {
   "display_name": "Python 3 (ipykernel)",
   "language": "python",
   "name": "python3"
  },
  "language_info": {
   "codemirror_mode": {
    "name": "ipython",
    "version": 3
   },
   "file_extension": ".py",
   "mimetype": "text/x-python",
   "name": "python",
   "nbconvert_exporter": "python",
   "pygments_lexer": "ipython3",
   "version": "3.9.13"
  },
  "vscode": {
   "interpreter": {
    "hash": "71045b0c53618fdaf5c6f9f076631cbc86e0287eb7c829ed4c3e00c1ab1586ad"
   }
  }
 },
 "nbformat": 4,
 "nbformat_minor": 5
}
